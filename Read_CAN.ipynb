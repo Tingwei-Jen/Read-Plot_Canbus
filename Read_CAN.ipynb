{
 "cells": [
  {
   "cell_type": "code",
   "execution_count": 1,
   "metadata": {},
   "outputs": [
    {
     "name": "stdout",
     "output_type": "stream",
     "text": [
      "831\n",
      "[index=2][0x065][8][hnd=0][flag=2][0x3D 0x13 0x3D 0x13 0x00 0x00 0x00 0x00]\n",
      "\n"
     ]
    }
   ],
   "source": [
    "import numpy as np\n",
    "import matplotlib.pyplot as plt\n",
    "\n",
    "with open('3_12_Steering_Angle_left_to_right.txt') as f:\n",
    "    lines = f.readlines()\n",
    "    \n",
    "print(len(lines))\n",
    "print(lines[2])"
   ]
  },
  {
   "cell_type": "code",
   "execution_count": 2,
   "metadata": {},
   "outputs": [],
   "source": [
    "def Hex2Dec(data):\n",
    "    return int(data, 16)    "
   ]
  },
  {
   "cell_type": "code",
   "execution_count": 3,
   "metadata": {},
   "outputs": [
    {
     "data": {
      "text/plain": [
       "4925"
      ]
     },
     "execution_count": 3,
     "metadata": {},
     "output_type": "execute_result"
    }
   ],
   "source": [
    "Hex2Dec('0x133d')"
   ]
  },
  {
   "cell_type": "code",
   "execution_count": 4,
   "metadata": {},
   "outputs": [],
   "source": [
    "def GetSteerData(line):\n",
    "    \n",
    "    if len(line)== 76:\n",
    "        i = 34\n",
    "    elif len(line)== 77:\n",
    "        i = 35\n",
    "    elif len(line)== 78:\n",
    "        i = 36\n",
    "    elif len(line)== 79:\n",
    "        i = 37 \n",
    "    elif len(line)== 80:\n",
    "        i = 38    \n",
    "    \n",
    "    Angle = line[i+8] + line[i+9] + line[i+3] + line[i+4]\n",
    "    CMD = line[i+18] + line[i+19] + line[i+13] + line[i+14]\n",
    " \n",
    "    Angle = int(Angle, 16)\n",
    "    CMD = int(CMD, 16)\n",
    "\n",
    "    if(Angle>=60000):        #right\n",
    "        Angle = Angle-65536\n",
    "        \n",
    "    if(CMD>=60000):        #right\n",
    "        CMD = CMD-65536\n",
    "    \n",
    "    return Angle/10, CMD/10"
   ]
  },
  {
   "cell_type": "code",
   "execution_count": 5,
   "metadata": {},
   "outputs": [
    {
     "name": "stdout",
     "output_type": "stream",
     "text": [
      "492.5 492.5\n"
     ]
    }
   ],
   "source": [
    "## test \n",
    "i = 2\n",
    "Angle, CMD = GetSteerData(lines[i])\n",
    "print(Angle,CMD)"
   ]
  },
  {
   "cell_type": "code",
   "execution_count": 6,
   "metadata": {},
   "outputs": [],
   "source": [
    "Angles = []\n",
    "CMDs = []\n",
    "\n",
    "for i in range(len(lines)):\n",
    "    \n",
    "    if len(lines[i])== 76:\n",
    "        if lines[i][14] == '5':\n",
    "            Angle, CMD = GetSteerData(lines[i]);\n",
    "            Angles.append(Angle)\n",
    "            CMDs.append(CMD)\n",
    "\n",
    "    elif len(lines[i])== 77:\n",
    "        if lines[i][15] == '5':\n",
    "            Angle, CMD = GetSteerData(lines[i]);\n",
    "            Angles.append(Angle)\n",
    "            CMDs.append(CMD)    \n",
    "    \n",
    "    elif len(lines[i])== 78:\n",
    "        if lines[i][16] == '5':\n",
    "            Angle, CMD = GetSteerData(lines[i]);\n",
    "            Angles.append(Angle)\n",
    "            CMDs.append(CMD)\n",
    "            \n",
    "    elif len(lines[i])== 79:\n",
    "        if lines[i][17] == '5':\n",
    "            Angle, CMD = GetSteerData(lines[i]);\n",
    "            Angles.append(Angle)\n",
    "            CMDs.append(CMD)\n",
    "            \n",
    "    elif len(lines[i])== 80:\n",
    "        if lines[i][18] == '5':\n",
    "            Angle, CMD = GetSteerData(lines[i]);\n",
    "            Angles.append(Angle)\n",
    "            CMDs.append(CMD)\n",
    "            \n",
    "#print(Angles)"
   ]
  },
  {
   "cell_type": "code",
   "execution_count": 7,
   "metadata": {},
   "outputs": [
    {
     "name": "stdout",
     "output_type": "stream",
     "text": [
      "n_data:  283\n"
     ]
    },
    {
     "data": {
      "image/png": "[encoded data removed]",
      "text/plain": [
       "<Figure size 720x720 with 1 Axes>"
      ]
     },
     "metadata": {
      "needs_background": "light"
     },
     "output_type": "display_data"
    }
   ],
   "source": [
    "print(\"n_data: \",len(Angles))\n",
    "x = np.arange(0,len(Angles))\n",
    "plt.figure(figsize=(10, 10)) \n",
    "plt.plot(x, Angles)\n",
    "plt.ylabel(\"angle\")\n",
    "plt.xlabel(\"x\")\n",
    "plt.title(\"Steer\")\n",
    "my_x_ticks = np.arange(0, len(Angles), 50)\n",
    "my_y_ticks = np.arange(-500, 500, 50)\n",
    "plt.xticks(my_x_ticks)\n",
    "plt.yticks(my_y_ticks)\n",
    "plt.show()"
   ]
  },
  {
   "cell_type": "code",
   "execution_count": 8,
   "metadata": {},
   "outputs": [
    {
     "name": "stdout",
     "output_type": "stream",
     "text": [
      "2062\n",
      "[index=0][0x06A][8][hnd=0][flag=2][0x00 0x00 0x00 0x00 0x00 0x00 0x00 0x00]\n",
      "\n"
     ]
    }
   ],
   "source": [
    "with open('3_12_wheel_speed_0kmh_35kmh.txt') as f:\n",
    "    lines = f.readlines()\n",
    "    \n",
    "print(len(lines))\n",
    "print(lines[0])"
   ]
  },
  {
   "cell_type": "code",
   "execution_count": 9,
   "metadata": {},
   "outputs": [],
   "source": [
    "def GetWheelData(line):\n",
    "    \n",
    "    if len(line)== 76:\n",
    "        i = 34\n",
    "    elif len(line)== 77:\n",
    "        i = 35\n",
    "    elif len(line)== 78:\n",
    "        i = 36\n",
    "    elif len(line)== 79:\n",
    "        i = 37 \n",
    "    elif len(line)== 80:\n",
    "        i = 38\n",
    "    \n",
    "    FL = line[i+8] + line[i+9] + line[i+3] + line[i+4]\n",
    "    FR = line[i+18] + line[i+19] + line[i+13] + line[i+14]\n",
    "\n",
    "    RL = line[i+28] + line[i+29] + line[i+23] + line[i+24]\n",
    "    RR = line[i+38] + line[i+39] + line[i+33] + line[i+34]\n",
    "\n",
    "    FL = int(FL, 16)\n",
    "    FR = int(FR, 16)\n",
    "    RL = int(RL, 16)\n",
    "    RR = int(RR, 16)\n",
    "    \n",
    "    if(FL>32767):\n",
    "        FL = FL-65536\n",
    "    \n",
    "    if(FR>32767):\n",
    "        FR = FR-65536  \n",
    "    \n",
    "    if(RL>32767):\n",
    "        RL = RL-65536  \n",
    "        \n",
    "    if(RR>32767):\n",
    "        RR = RR-65536  \n",
    "    \n",
    "    return FL/100, FR/100, RL/100, RR/100"
   ]
  },
  {
   "cell_type": "code",
   "execution_count": 10,
   "metadata": {},
   "outputs": [
    {
     "name": "stdout",
     "output_type": "stream",
     "text": [
      "[index=600][0x06A][8][hnd=0][flag=2][0xC9 0x06 0xC5 0x06 0xC0 0x06 0xC0 0x06]\n",
      "\n",
      "17.37 17.33 17.28 17.28\n"
     ]
    }
   ],
   "source": [
    "##TEST\n",
    "i = 600\n",
    "print(lines[i])\n",
    "FL, FR, RL, RR = GetWheelData(lines[i]);\n",
    "print(FL, FR, RL, RR)"
   ]
  },
  {
   "cell_type": "code",
   "execution_count": 11,
   "metadata": {},
   "outputs": [],
   "source": [
    "FLs = []\n",
    "FRs = []\n",
    "RLs = []\n",
    "RRs = []\n",
    "\n",
    "for i in range(len(lines)):\n",
    "    \n",
    "    if len(lines[i])== 76:\n",
    "        if lines[i][14] == 'A':\n",
    "            FL, FR, RL, RR = GetWheelData(lines[i]);\n",
    "            FLs.append(FL)\n",
    "            FRs.append(FR)\n",
    "            RLs.append(RL)\n",
    "            RRs.append(RR)\n",
    "            \n",
    "    elif len(lines[i])== 77:   \n",
    "        if lines[i][15] == 'A':\n",
    "            FL, FR, RL, RR = GetWheelData(lines[i]);        \n",
    "            FLs.append(FL)\n",
    "            FRs.append(FR)\n",
    "            RLs.append(RL)\n",
    "            RRs.append(RR)\n",
    "                    \n",
    "    elif len(lines[i])== 78:  \n",
    "        if lines[i][16] == 'A':\n",
    "            FL, FR, RL, RR = GetWheelData(lines[i]);        \n",
    "            FLs.append(FL)\n",
    "            FRs.append(FR)\n",
    "            RLs.append(RL)\n",
    "            RRs.append(RR)\n",
    "                    \n",
    "    elif len(lines[i])== 79:\n",
    "        if lines[i][17] == 'A':\n",
    "            FL, FR, RL, RR = GetWheelData(lines[i]);        \n",
    "            FLs.append(FL)\n",
    "            FRs.append(FR)\n",
    "            RLs.append(RL)\n",
    "            RRs.append(RR)\n",
    "                      \n",
    "    elif len(lines[i])== 80:   \n",
    "        if lines[i][18] == 'A':\n",
    "            FL, FR, RL, RR = GetWheelData(lines[i]);        \n",
    "            FLs.append(FL)\n",
    "            FRs.append(FR)\n",
    "            RLs.append(RL)\n",
    "            RRs.append(RR)\n",
    "            \n",
    "#print(FLs)"
   ]
  },
  {
   "cell_type": "code",
   "execution_count": 12,
   "metadata": {},
   "outputs": [
    {
     "name": "stdout",
     "output_type": "stream",
     "text": [
      "n_data:  1383\n"
     ]
    },
    {
     "data": {
      "text/plain": [
       "Text(0.5,1,'FLs')"
      ]
     },
     "execution_count": 12,
     "metadata": {},
     "output_type": "execute_result"
    },
    {
     "data": {
      "image/png": "[encoded data removed]",
      "text/plain": [
       "<Figure size 720x720 with 1 Axes>"
      ]
     },
     "metadata": {
      "needs_background": "light"
     },
     "output_type": "display_data"
    }
   ],
   "source": [
    "print(\"n_data: \", len(FLs))\n",
    "x = np.arange(0,len(FLs))\n",
    "plt.figure(figsize=(10, 10)) \n",
    "plt.plot(x, FLs)\n",
    "plt.ylabel(\"speed\")\n",
    "plt.xlabel(\"x\")\n",
    "my_x_ticks = np.arange(0, len(FLs), 200)\n",
    "my_y_ticks = np.arange(-5, 40, 5)\n",
    "plt.xticks(my_x_ticks)\n",
    "plt.yticks(my_y_ticks)\n",
    "plt.title(\"FLs\")"
   ]
  },
  {
   "cell_type": "code",
   "execution_count": 13,
   "metadata": {},
   "outputs": [
    {
     "name": "stdout",
     "output_type": "stream",
     "text": [
      "1383\n"
     ]
    },
    {
     "data": {
      "image/png": "[encoded data removed]",
      "text/plain": [
       "<Figure size 360x360 with 1 Axes>"
      ]
     },
     "metadata": {
      "needs_background": "light"
     },
     "output_type": "display_data"
    },
    {
     "data": {
      "image/png": "[encoded data removed]",
      "text/plain": [
       "<Figure size 360x360 with 1 Axes>"
      ]
     },
     "metadata": {
      "needs_background": "light"
     },
     "output_type": "display_data"
    },
    {
     "data": {
      "image/png": "[encoded data removed]",
      "text/plain": [
       "<Figure size 360x360 with 1 Axes>"
      ]
     },
     "metadata": {
      "needs_background": "light"
     },
     "output_type": "display_data"
    },
    {
     "data": {
      "image/png": "[encoded data removed]",
      "text/plain": [
       "<Figure size 360x360 with 1 Axes>"
      ]
     },
     "metadata": {
      "needs_background": "light"
     },
     "output_type": "display_data"
    }
   ],
   "source": [
    "print(len(FLs))\n",
    "\n",
    "x = np.arange(0,len(FLs))\n",
    "plt.figure(figsize=(5, 5)) \n",
    "plt.subplot(221)\n",
    "plt.plot(x, FLs)\n",
    "plt.ylabel(\"FLs\")\n",
    "plt.xlabel(\"x\")\n",
    "plt.title(\"FLs\")\n",
    "\n",
    "x = np.arange(0,len(FRs))\n",
    "plt.figure(figsize=(5, 5)) \n",
    "plt.subplot(222)\n",
    "plt.plot(x, FRs)\n",
    "plt.ylabel(\"FRs\")\n",
    "plt.xlabel(\"x\")\n",
    "plt.title(\"FRs\")\n",
    "\n",
    "x = np.arange(0,len(RLs))\n",
    "plt.figure(figsize=(5, 5)) \n",
    "plt.subplot(223)\n",
    "plt.plot(x, RLs)\n",
    "plt.ylabel(\"FLs\")\n",
    "plt.xlabel(\"x\")\n",
    "plt.title(\"RLs\")\n",
    "\n",
    "x = np.arange(0,len(RRs))\n",
    "plt.figure(figsize=(5, 5)) \n",
    "plt.subplot(224)\n",
    "plt.plot(x, RRs)\n",
    "plt.ylabel(\"RRs\")\n",
    "plt.xlabel(\"x\")\n",
    "plt.title(\"RRs\")\n",
    "\n",
    "\n",
    "plt.show()"
   ]
  }
 ],
 "metadata": {
  "kernelspec": {
   "display_name": "Python 3",
   "language": "python",
   "name": "python3"
  },
  "language_info": {
   "codemirror_mode": {
    "name": "ipython",
    "version": 3
   },
   "file_extension": ".py",
   "mimetype": "text/x-python",
   "name": "python",
   "nbconvert_exporter": "python",
   "pygments_lexer": "ipython3",
   "version": "3.7.0"
  }
 },
 "nbformat": 4,
 "nbformat_minor": 2
}
