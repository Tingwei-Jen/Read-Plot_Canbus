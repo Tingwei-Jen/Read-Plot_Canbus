{
 "cells": [
  {
   "cell_type": "code",
   "execution_count": 44,
   "metadata": {
    "scrolled": true
   },
   "outputs": [
    {
     "name": "stdout",
     "output_type": "stream",
     "text": [
      "831\n",
      "[index=0][0x06A][8][hnd=0][flag=2][0x00 0x00 0x00 0x00 0x00 0x00 0x00 0x00]\n",
      "\n"
     ]
    }
   ],
   "source": [
    "import numpy as np\n",
    "import matplotlib.pyplot as plt\n",
    "\n",
    "with open('3_12_Steering_Angle_left_to_right.txt') as f:\n",
    "    lines = f.readlines()\n",
    "    \n",
    "print(len(lines))\n",
    "print(lines[0])"
   ]
  },
  {
   "cell_type": "code",
   "execution_count": 45,
   "metadata": {},
   "outputs": [],
   "source": [
    "def GetSteerData(line):\n",
    "    \n",
    "    if len(line)== 76:\n",
    "        i = 34\n",
    "    elif len(line)== 77:\n",
    "        i = 35\n",
    "    elif len(line)== 78:\n",
    "        i = 36\n",
    "    elif len(line)== 79:\n",
    "        i = 37 \n",
    "    elif len(line)== 80:\n",
    "        i = 38    \n",
    "    \n",
    "    Angle = line[i+8] + line[i+9] + line[i+3] + line[i+4]\n",
    "    CMD = line[i+18] + line[i+19] + line[i+13] + line[i+14]\n",
    " \n",
    "    Angle = int(Angle, 16)\n",
    "    CMD = int(CMD, 16)\n",
    "\n",
    "    if(Angle>=60000):        #right\n",
    "        Angle = Angle-65536\n",
    "    \n",
    "    return Angle/10, CMD/10"
   ]
  },
  {
   "cell_type": "code",
   "execution_count": 49,
   "metadata": {},
   "outputs": [
    {
     "name": "stdout",
     "output_type": "stream",
     "text": [
      "492.5 492.5\n"
     ]
    }
   ],
   "source": [
    "## test \n",
    "i = 2\n",
    "Angle, CMD = GetSteerData(lines[i])\n",
    "print(Angle,CMD)"
   ]
  },
  {
   "cell_type": "code",
   "execution_count": 50,
   "metadata": {},
   "outputs": [],
   "source": [
    "Angles = []\n",
    "CMDs = []\n",
    "\n",
    "for i in range(len(lines)):\n",
    "    \n",
    "    if len(lines[i])== 76:\n",
    "        if lines[i][14] == '5':\n",
    "            Angle, CMD = GetSteerData(lines[i]);\n",
    "            Angles.append(Angle)\n",
    "\n",
    "    elif len(lines[i])== 77:\n",
    "        if lines[i][15] == '5':\n",
    "            Angle, CMD = GetSteerData(lines[i]);\n",
    "            Angles.append(Angle)\n",
    "            CMDs.append(CMD)    \n",
    "    \n",
    "    elif len(lines[i])== 78:\n",
    "        if lines[i][16] == '5':\n",
    "            Angle, CMD = GetSteerData(lines[i]);\n",
    "            Angles.append(Angle)\n",
    "            CMDs.append(CMD)\n",
    "            \n",
    "    elif len(lines[i])== 79:\n",
    "        if lines[i][17] == '5':\n",
    "            Angle, CMD = GetSteerData(lines[i]);\n",
    "            Angles.append(Angle)\n",
    "            CMDs.append(CMD)\n",
    "            \n",
    "    elif len(lines[i])== 80:\n",
    "        if lines[i][18] == '5':\n",
    "            Angle, CMD = GetSteerData(lines[i]);\n",
    "            Angles.append(Angle)\n",
    "            CMDs.append(CMD)\n"
   ]
  },
  {
   "cell_type": "code",
   "execution_count": 51,
   "metadata": {
    "scrolled": false
   },
   "outputs": [
    {
     "name": "stdout",
     "output_type": "stream",
     "text": [
      "[492.5, 492.5, 492.5, 492.5, 492.4, 492.4, 492.3, 492.3, 492.2, 492.2, 492.1, 492.0, 491.9, 491.8, 491.6, 491.2, 490.3, 489.2, 488.1, 486.8, 485.3, 483.6, 482.0, 480.4, 479.3, 478.0, 476.5, 474.9, 473.0, 471.0, 468.4, 465.3, 461.6, 457.3, 452.5, 447.5, 442.0, 436.3, 430.4, 424.5, 418.8, 407.6, 396.6, 391.2, 380.6, 375.6, 370.7, 366.1, 361.5, 357.2, 353.1, 349.1, 344.9, 341.0, 337.0, 333.1, 329.0, 324.6, 320.0, 315.1, 309.8, 304.2, 298.6, 292.9, 287.0, 280.9, 275.2, 269.6, 264.6, 259.7, 254.9, 250.0, 245.1, 240.3, 235.4, 230.6, 225.8, 221.1, 216.4, 211.8, 207.4, 202.8, 198.2, 193.4, 188.4, 183.3, 177.9, 172.3, 166.7, 160.9, 155.2, 149.6, 144.2, 139.4, 135.2, 131.5, 127.5, 122.5, 117.2, 111.3, 105.3, 99.0, 92.7, 86.5, 80.4, 74.3, 68.2, 62.3, 56.5, 50.7, 45.2, 39.8, 34.7, 29.9, 25.2, 20.5, 16.0, 7.8, 4.0, 0.4, -6.5, -9.9, -13.4, -17.1, -20.7, -24.6, -28.9, -33.3, -37.8, -42.4, -47.2, -52.1, -57.2, -62.3, -68.1, -74.1, -80.2, -86.2, -91.9, -97.3, -102.3, -106.8, -113.0, -114.6, -115.5, -116.3, -118.0, -120.4, -122.8, -125.3, -128.1, -131.1, -134.4, -137.9, -141.7, -145.9, -150.4, -160.7, -166.4, -172.4, -178.4, -184.5, -190.6, -196.8, -202.8, -208.6, -214.2, -219.2, -223.3, -227.2, -231.0, -234.9, -239.3, -243.9, -249.2, -254.9, -260.9, -266.9, -278.2, -283.9, -289.7, -295.5, -301.4, -307.0, -312.4, -317.3, -321.8, -325.7, -329.4, -333.1, -337.2, -341.7, -346.5, -351.5, -356.7, -362.1, -367.3, -372.7, -378.0, -383.5, -388.8, -394.2, -405.5, -411.4, -417.7, -424.3, -431.4, -445.6, -452.1, -457.6, -462.1, -466.1, -469.4, -472.1, -474.5, -477.1, -480.3, -483.5, -486.4, -489.2, -492.0, -497.6, -499.9, -501.3, -501.9, -502.3, -502.6, -502.6, -502.6, -502.6, -502.6, -502.6, -502.6, -502.6, -502.6, -502.6, -502.6, -502.6, -502.7, -502.8, -502.9, -503.1, -503.3, -503.6, -503.8, -504.4, -504.7, -505.4, -505.8, -506.3, -506.6, -506.9, -507.1, -507.3, -507.6, -507.8, -508.1, -508.3, -508.5, -508.6, -508.7, -508.8, -508.8, -508.9, -508.9, -509.0, -509.1, -509.2, -509.2, -509.2, -509.2, -509.2, -509.3, -509.3, -509.2, -509.3, -509.5, -509.8, -509.9, -510.1, -510.3, -510.5, -510.6]\n"
     ]
    }
   ],
   "source": [
    "print(Angles)"
   ]
  },
  {
   "cell_type": "code",
   "execution_count": 61,
   "metadata": {},
   "outputs": [
    {
     "name": "stdout",
     "output_type": "stream",
     "text": [
      "283\n"
     ]
    },
    {
     "data": {
      "image/png": "[encoded data removed]",
      "text/plain": [
       "<Figure size 720x720 with 1 Axes>"
      ]
     },
     "metadata": {
      "needs_background": "light"
     },
     "output_type": "display_data"
    }
   ],
   "source": [
    "print(len(Angles))\n",
    "x = np.arange(0,len(Angles))\n",
    "plt.figure(figsize=(10, 10)) \n",
    "plt.plot(x, Angles)\n",
    "plt.ylabel(\"Steer\")\n",
    "plt.xlabel(\"x\")\n",
    "plt.title(\"Steer\")\n",
    "plt.show()"
   ]
  },
  {
   "cell_type": "code",
   "execution_count": null,
   "metadata": {},
   "outputs": [],
   "source": []
  },
  {
   "cell_type": "code",
   "execution_count": 62,
   "metadata": {},
   "outputs": [
    {
     "name": "stdout",
     "output_type": "stream",
     "text": [
      "2062\n",
      "[index=0][0x06A][8][hnd=0][flag=2][0x00 0x00 0x00 0x00 0x00 0x00 0x00 0x00]\n",
      "\n"
     ]
    }
   ],
   "source": [
    "with open('3_12_wheel_speed_0kmh_35kmh.txt') as f:\n",
    "    lines = f.readlines()\n",
    "    \n",
    "print(len(lines))\n",
    "print(lines[0])"
   ]
  },
  {
   "cell_type": "code",
   "execution_count": 80,
   "metadata": {},
   "outputs": [],
   "source": [
    "def GetWheelData(line):\n",
    "    \n",
    "    if len(line)== 76:\n",
    "        i = 34\n",
    "    elif len(line)== 77:\n",
    "        i = 35\n",
    "    elif len(line)== 78:\n",
    "        i = 36\n",
    "    elif len(line)== 79:\n",
    "        i = 37 \n",
    "    elif len(line)== 80:\n",
    "        i = 38\n",
    "    \n",
    "    FL = line[i+8] + line[i+9] + line[i+3] + line[i+4]\n",
    "    FR = line[i+18] + line[i+19] + line[i+13] + line[i+14]\n",
    "\n",
    "    RL = line[i+28] + line[i+29] + line[i+23] + line[i+24]\n",
    "    RR = line[i+38] + line[i+39] + line[i+33] + line[i+34]\n",
    "\n",
    "    FL = int(FL, 16)\n",
    "    FR = int(FR, 16)\n",
    "    RL = int(RL, 16)\n",
    "    RR = int(RR, 16)\n",
    "    \n",
    "    if(FL>32767):\n",
    "        FL = FL-65536\n",
    "    \n",
    "    if(FR>32767):\n",
    "        FR = FR-65536  \n",
    "    \n",
    "    if(RL>32767):\n",
    "        RL = RL-65536  \n",
    "        \n",
    "    if(RR>32767):\n",
    "        RR = RR-65536  \n",
    "    \n",
    "    return FL/100, FR/100, RL/100, RR/100"
   ]
  },
  {
   "cell_type": "code",
   "execution_count": 83,
   "metadata": {},
   "outputs": [
    {
     "name": "stdout",
     "output_type": "stream",
     "text": [
      "[index=600][0x06A][8][hnd=0][flag=2][0xC9 0x06 0xC5 0x06 0xC0 0x06 0xC0 0x06]\n",
      "\n",
      "17.37 17.33 17.28 17.28\n"
     ]
    }
   ],
   "source": [
    "##TEST\n",
    "i = 600\n",
    "print(lines[i])\n",
    "FL, FR, RL, RR = GetWheelData(lines[i]);\n",
    "print(FL, FR, RL, RR)"
   ]
  },
  {
   "cell_type": "code",
   "execution_count": 84,
   "metadata": {},
   "outputs": [],
   "source": [
    "FLs = []\n",
    "FRs = []\n",
    "RLs = []\n",
    "RRs = []\n",
    "\n",
    "for i in range(len(lines)):\n",
    "    \n",
    "    if len(lines[i])== 76:\n",
    "        if lines[i][14] == 'A':\n",
    "            FL, FR, RL, RR = GetWheelData(lines[i]);\n",
    "            FLs.append(FL)\n",
    "            FRs.append(FR)\n",
    "            RLs.append(RL)\n",
    "            RRs.append(RR)\n",
    "            \n",
    "    elif len(lines[i])== 77:   \n",
    "        if lines[i][15] == 'A':\n",
    "            FL, FR, RL, RR = GetWheelData(lines[i]);        \n",
    "            FLs.append(FL)\n",
    "            FRs.append(FR)\n",
    "            RLs.append(RL)\n",
    "            RRs.append(RR)\n",
    "                    \n",
    "    elif len(lines[i])== 78:  \n",
    "        if lines[i][16] == 'A':\n",
    "            FL, FR, RL, RR = GetWheelData(lines[i]);        \n",
    "            FLs.append(FL)\n",
    "            FRs.append(FR)\n",
    "            RLs.append(RL)\n",
    "            RRs.append(RR)\n",
    "                    \n",
    "    elif len(lines[i])== 79:\n",
    "        if lines[i][17] == 'A':\n",
    "            FL, FR, RL, RR = GetWheelData(lines[i]);        \n",
    "            FLs.append(FL)\n",
    "            FRs.append(FR)\n",
    "            RLs.append(RL)\n",
    "            RRs.append(RR)\n",
    "                      \n",
    "    elif len(lines[i])== 80:   \n",
    "        if lines[i][18] == 'A':\n",
    "            FL, FR, RL, RR = GetWheelData(lines[i]);        \n",
    "            FLs.append(FL)\n",
    "            FRs.append(FR)\n",
    "            RLs.append(RL)\n",
    "            RRs.append(RR)\n",
    "        "
   ]
  },
  {
   "cell_type": "code",
   "execution_count": 99,
   "metadata": {},
   "outputs": [],
   "source": [
    "#print(FLs)"
   ]
  },
  {
   "cell_type": "code",
   "execution_count": 101,
   "metadata": {},
   "outputs": [
    {
     "name": "stdout",
     "output_type": "stream",
     "text": [
      "1383\n"
     ]
    },
    {
     "data": {
      "text/plain": [
       "Text(0.5, 1.0, 'FLs')"
      ]
     },
     "execution_count": 101,
     "metadata": {},
     "output_type": "execute_result"
    },
    {
     "data": {
      "image/png": "[encoded data removed]",
      "text/plain": [
       "<Figure size 504x504 with 1 Axes>"
      ]
     },
     "metadata": {
      "needs_background": "light"
     },
     "output_type": "display_data"
    }
   ],
   "source": [
    "print(len(FLs))\n",
    "\n",
    "x = np.arange(0,len(FLs))\n",
    "plt.figure(figsize=(7, 7)) \n",
    "plt.plot(x, FLs)\n",
    "plt.ylabel(\"FLs\")\n",
    "plt.xlabel(\"x\")\n",
    "plt.title(\"FLs\")\n"
   ]
  },
  {
   "cell_type": "code",
   "execution_count": 102,
   "metadata": {},
   "outputs": [
    {
     "name": "stdout",
     "output_type": "stream",
     "text": [
      "1383\n"
     ]
    },
    {
     "data": {
      "image/png": "[encoded data removed]",
      "text/plain": [
       "<Figure size 360x360 with 1 Axes>"
      ]
     },
     "metadata": {
      "needs_background": "light"
     },
     "output_type": "display_data"
    },
    {
     "data": {
      "image/png": "[encoded data removed]",
      "text/plain": [
       "<Figure size 360x360 with 1 Axes>"
      ]
     },
     "metadata": {
      "needs_background": "light"
     },
     "output_type": "display_data"
    },
    {
     "data": {
      "image/png": "[encoded data removed]",
      "text/plain": [
       "<Figure size 360x360 with 1 Axes>"
      ]
     },
     "metadata": {
      "needs_background": "light"
     },
     "output_type": "display_data"
    },
    {
     "data": {
      "image/png": "[encoded data removed]",
      "text/plain": [
       "<Figure size 360x360 with 1 Axes>"
      ]
     },
     "metadata": {
      "needs_background": "light"
     },
     "output_type": "display_data"
    }
   ],
   "source": [
    "print(len(FLs))\n",
    "\n",
    "x = np.arange(0,len(FLs))\n",
    "plt.figure(figsize=(5, 5)) \n",
    "plt.subplot(221)\n",
    "plt.plot(x, FLs)\n",
    "plt.ylabel(\"FLs\")\n",
    "plt.xlabel(\"x\")\n",
    "plt.title(\"FLs\")\n",
    "\n",
    "x = np.arange(0,len(FRs))\n",
    "plt.figure(figsize=(5, 5)) \n",
    "plt.subplot(222)\n",
    "plt.plot(x, FRs)\n",
    "plt.ylabel(\"FRs\")\n",
    "plt.xlabel(\"x\")\n",
    "plt.title(\"FRs\")\n",
    "\n",
    "x = np.arange(0,len(RLs))\n",
    "plt.figure(figsize=(5, 5)) \n",
    "plt.subplot(223)\n",
    "plt.plot(x, RLs)\n",
    "plt.ylabel(\"FLs\")\n",
    "plt.xlabel(\"x\")\n",
    "plt.title(\"RLs\")\n",
    "\n",
    "x = np.arange(0,len(RRs))\n",
    "plt.figure(figsize=(5, 5)) \n",
    "plt.subplot(224)\n",
    "plt.plot(x, RRs)\n",
    "plt.ylabel(\"RRs\")\n",
    "plt.xlabel(\"x\")\n",
    "plt.title(\"RRs\")\n",
    "\n",
    "\n",
    "plt.show()"
   ]
  },
  {
   "cell_type": "code",
   "execution_count": null,
   "metadata": {},
   "outputs": [],
   "source": []
  }
 ],
 "metadata": {
  "kernelspec": {
   "display_name": "Python 3",
   "language": "python",
   "name": "python3"
  },
  "language_info": {
   "codemirror_mode": {
    "name": "ipython",
    "version": 3
   },
   "file_extension": ".py",
   "mimetype": "text/x-python",
   "name": "python",
   "nbconvert_exporter": "python",
   "pygments_lexer": "ipython3",
   "version": "3.7.1"
  }
 },
 "nbformat": 4,
 "nbformat_minor": 2
}
